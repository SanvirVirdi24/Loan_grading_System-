{
  "cells": [
    {
      "cell_type": "markdown",
      "metadata": {
        "id": "view-in-github",
        "colab_type": "text"
      },
      "source": [
        "<a href=\"https://colab.research.google.com/github/SanvirVirdi24/Loan_grading_System-/blob/main/Loan_grading_system.ipynb\" target=\"_parent\"><img src=\"https://colab.research.google.com/assets/colab-badge.svg\" alt=\"Open In Colab\"/></a>"
      ]
    },
    {
      "cell_type": "code",
      "execution_count": null,
      "metadata": {
        "colab": {
          "base_uri": "https://localhost:8080/"
        },
        "id": "bTtqAANubmlH",
        "outputId": "f3f49f86-a9da-46b1-f6b2-0e59fbea9db0"
      },
      "outputs": [
        {
          "name": "stdout",
          "output_type": "stream",
          "text": [
            "Requirement already satisfied: pandas in /usr/local/lib/python3.10/dist-packages (2.2.2)\n",
            "Requirement already satisfied: numpy in /usr/local/lib/python3.10/dist-packages (1.26.4)\n",
            "Requirement already satisfied: scikit-learn in /usr/local/lib/python3.10/dist-packages (1.5.2)\n",
            "Requirement already satisfied: matplotlib in /usr/local/lib/python3.10/dist-packages (3.8.0)\n",
            "Requirement already satisfied: seaborn in /usr/local/lib/python3.10/dist-packages (0.13.2)\n",
            "Requirement already satisfied: python-dateutil>=2.8.2 in /usr/local/lib/python3.10/dist-packages (from pandas) (2.8.2)\n",
            "Requirement already satisfied: pytz>=2020.1 in /usr/local/lib/python3.10/dist-packages (from pandas) (2024.2)\n",
            "Requirement already satisfied: tzdata>=2022.7 in /usr/local/lib/python3.10/dist-packages (from pandas) (2024.2)\n",
            "Requirement already satisfied: scipy>=1.6.0 in /usr/local/lib/python3.10/dist-packages (from scikit-learn) (1.13.1)\n",
            "Requirement already satisfied: joblib>=1.2.0 in /usr/local/lib/python3.10/dist-packages (from scikit-learn) (1.4.2)\n",
            "Requirement already satisfied: threadpoolctl>=3.1.0 in /usr/local/lib/python3.10/dist-packages (from scikit-learn) (3.5.0)\n",
            "Requirement already satisfied: contourpy>=1.0.1 in /usr/local/lib/python3.10/dist-packages (from matplotlib) (1.3.0)\n",
            "Requirement already satisfied: cycler>=0.10 in /usr/local/lib/python3.10/dist-packages (from matplotlib) (0.12.1)\n",
            "Requirement already satisfied: fonttools>=4.22.0 in /usr/local/lib/python3.10/dist-packages (from matplotlib) (4.54.1)\n",
            "Requirement already satisfied: kiwisolver>=1.0.1 in /usr/local/lib/python3.10/dist-packages (from matplotlib) (1.4.7)\n",
            "Requirement already satisfied: packaging>=20.0 in /usr/local/lib/python3.10/dist-packages (from matplotlib) (24.1)\n",
            "Requirement already satisfied: pillow>=6.2.0 in /usr/local/lib/python3.10/dist-packages (from matplotlib) (10.4.0)\n",
            "Requirement already satisfied: pyparsing>=2.3.1 in /usr/local/lib/python3.10/dist-packages (from matplotlib) (3.2.0)\n",
            "Requirement already satisfied: six>=1.5 in /usr/local/lib/python3.10/dist-packages (from python-dateutil>=2.8.2->pandas) (1.16.0)\n"
          ]
        }
      ],
      "source": [
        "  pip install pandas numpy scikit-learn matplotlib seaborn"
      ]
    },
    {
      "cell_type": "code",
      "execution_count": null,
      "metadata": {
        "colab": {
          "base_uri": "https://localhost:8080/"
        },
        "id": "-MY1vVNwbzKc",
        "outputId": "3d794743-4aa3-43d3-d688-4e39ffe8b823"
      },
      "outputs": [
        {
          "name": "stdout",
          "output_type": "stream",
          "text": [
            "Initial Data Overview:\n",
            "<class 'pandas.core.frame.DataFrame'>\n",
            "RangeIndex: 367 entries, 0 to 366\n",
            "Data columns (total 12 columns):\n",
            " #   Column             Non-Null Count  Dtype  \n",
            "---  ------             --------------  -----  \n",
            " 0   Loan_ID            367 non-null    object \n",
            " 1   Gender             356 non-null    object \n",
            " 2   Married            367 non-null    object \n",
            " 3   Dependents         357 non-null    object \n",
            " 4   Education          367 non-null    object \n",
            " 5   Self_Employed      344 non-null    object \n",
            " 6   ApplicantIncome    367 non-null    int64  \n",
            " 7   CoapplicantIncome  367 non-null    int64  \n",
            " 8   LoanAmount         367 non-null    int64  \n",
            " 9   Loan_Amount_Term   367 non-null    int64  \n",
            " 10  Credit_History     338 non-null    float64\n",
            " 11  Property_Area      367 non-null    object \n",
            "dtypes: float64(1), int64(4), object(7)\n",
            "memory usage: 34.5+ KB\n",
            "None\n",
            "       ApplicantIncome  CoapplicantIncome    LoanAmount  Loan_Amount_Term  \\\n",
            "count       367.000000         367.000000  3.670000e+02        367.000000   \n",
            "mean       7296.084469        1391.062670  8.687575e+05        242.615804   \n",
            "std        1868.609283        1112.865959  2.150006e+05         95.915047   \n",
            "min        3041.000000           0.000000  3.160000e+05        120.000000   \n",
            "25%        5918.000000           0.000000  7.305000e+05        120.000000   \n",
            "50%        7210.000000        1770.000000  8.720000e+05        240.000000   \n",
            "75%        8771.500000        2324.000000  1.017000e+06        360.000000   \n",
            "max       11688.000000        2983.000000  1.373000e+06        360.000000   \n",
            "\n",
            "       Credit_History  \n",
            "count      338.000000  \n",
            "mean         0.825444  \n",
            "std          0.380150  \n",
            "min          0.000000  \n",
            "25%          1.000000  \n",
            "50%          1.000000  \n",
            "75%          1.000000  \n",
            "max          1.000000  \n",
            "    Loan_ID Gender Married Dependents     Education Self_Employed  \\\n",
            "0  LP001015   Male     Yes          2      Graduate            No   \n",
            "1  LP001022   Male     Yes          1      Graduate            No   \n",
            "2  LP001031   Male     Yes          2      Graduate            No   \n",
            "3  LP001035   Male     Yes          2      Graduate            No   \n",
            "4  LP001051   Male      No          0  Not Graduate            No   \n",
            "\n",
            "   ApplicantIncome  CoapplicantIncome  LoanAmount  Loan_Amount_Term  \\\n",
            "0             6625               2437      906000               120   \n",
            "1             5868               1532      740000               360   \n",
            "2             8229               2782     1101000               120   \n",
            "3             6015               1525      754000               240   \n",
            "4             3845                  0      385000               360   \n",
            "\n",
            "   Credit_History Property_Area  \n",
            "0             1.0         Urban  \n",
            "1             1.0         Urban  \n",
            "2             1.0         Urban  \n",
            "3             NaN         Urban  \n",
            "4             1.0         Urban  \n",
            "\n",
            "Data After Null Handling:\n",
            "Loan_ID              0\n",
            "Gender               0\n",
            "Married              0\n",
            "Dependents           0\n",
            "Education            0\n",
            "Self_Employed        0\n",
            "ApplicantIncome      0\n",
            "CoapplicantIncome    0\n",
            "LoanAmount           0\n",
            "Loan_Amount_Term     0\n",
            "Credit_History       0\n",
            "Property_Area        0\n",
            "dtype: int64\n"
          ]
        },
        {
          "name": "stderr",
          "output_type": "stream",
          "text": [
            "<ipython-input-2-ce091bae04bc>:17: FutureWarning: A value is trying to be set on a copy of a DataFrame or Series through chained assignment using an inplace method.\n",
            "The behavior will change in pandas 3.0. This inplace method will never work because the intermediate object on which we are setting values always behaves as a copy.\n",
            "\n",
            "For example, when doing 'df[col].method(value, inplace=True)', try using 'df.method({col: value}, inplace=True)' or df[col] = df[col].method(value) instead, to perform the operation inplace on the original object.\n",
            "\n",
            "\n",
            "  data[col].fillna(data[col].mode()[0], inplace=True)\n",
            "<ipython-input-2-ce091bae04bc>:22: FutureWarning: A value is trying to be set on a copy of a DataFrame or Series through chained assignment using an inplace method.\n",
            "The behavior will change in pandas 3.0. This inplace method will never work because the intermediate object on which we are setting values always behaves as a copy.\n",
            "\n",
            "For example, when doing 'df[col].method(value, inplace=True)', try using 'df.method({col: value}, inplace=True)' or df[col] = df[col].method(value) instead, to perform the operation inplace on the original object.\n",
            "\n",
            "\n",
            "  data[col].fillna(data[col].median(), inplace=True)\n"
          ]
        }
      ],
      "source": [
        "import pandas as pd\n",
        "import numpy as np\n",
        "\n",
        "# Load the dataset\n",
        "data = pd.read_csv('/content/DATASETT.csv')\n",
        "\n",
        "# Display initial dataset information\n",
        "print(\"Initial Data Overview:\")\n",
        "print(data.info())\n",
        "print(data.describe())\n",
        "print(data.head())\n",
        "\n",
        "# Handling missing values\n",
        "# Fill categorical columns with the mode (most common value)\n",
        "categorical_cols = ['Gender', 'Married', 'Dependents', 'Education', 'Self_Employed', 'Credit_History']\n",
        "for col in categorical_cols:\n",
        "    data[col].fillna(data[col].mode()[0], inplace=True)\n",
        "\n",
        "# Fill numerical columns with the median\n",
        "numerical_cols = ['LoanAmount', 'Loan_Amount_Term', 'ApplicantIncome', 'CoapplicantIncome']\n",
        "for col in numerical_cols:\n",
        "    data[col].fillna(data[col].median(), inplace=True)\n",
        "\n",
        "# Check if all missing values are handled\n",
        "print(\"\\nData After Null Handling:\")\n",
        "print(data.isnull().sum())\n"
      ]
    },
    {
      "cell_type": "code",
      "execution_count": null,
      "metadata": {
        "colab": {
          "base_uri": "https://localhost:8080/",
          "height": 1000
        },
        "id": "_a-h7fEab-ka",
        "outputId": "8d9f298d-2955-4016-9da4-3fcf46963cf7"
      },
      "outputs": [
        {
          "name": "stdout",
          "output_type": "stream",
          "text": [
            "\n",
            "Gender Ratio (Male to Female): Gender\n",
            "Male      0.809264\n",
            "Female    0.190736\n",
            "Name: proportion, dtype: float64\n",
            "\n",
            "Education Ratio (Graduate to Non-Graduate): Education\n",
            "Graduate        0.771117\n",
            "Not Graduate    0.228883\n",
            "Name: proportion, dtype: float64\n",
            "\n",
            "Income to Loan Ratio:\n",
            "count    367.000000\n",
            "mean       0.009999\n",
            "std        0.000004\n",
            "min        0.009987\n",
            "25%        0.009997\n",
            "50%        0.009999\n",
            "75%        0.010002\n",
            "max        0.010013\n",
            "Name: Income_to_Loan_Ratio, dtype: float64\n"
          ]
        },
        {
          "data": {
            "image/png": "[encoded data removed]",
            "text/plain": [
              "<Figure size 640x480 with 1 Axes>"
            ]
          },
          "metadata": {},
          "output_type": "display_data"
        },
        {
          "data": {
            "image/png": "[encoded data removed]",
            "text/plain": [
              "<Figure size 640x480 with 1 Axes>"
            ]
          },
          "metadata": {},
          "output_type": "display_data"
        }
      ],
      "source": [
        "import seaborn as sns\n",
        "import matplotlib.pyplot as plt\n",
        "\n",
        "# Gender Ratio (Male:Female)\n",
        "gender_ratio = data['Gender'].value_counts(normalize=True)\n",
        "print(\"\\nGender Ratio (Male to Female):\", gender_ratio)\n",
        "\n",
        "# Education Ratio (Graduate:Non Graduate)\n",
        "education_ratio = data['Education'].value_counts(normalize=True)\n",
        "print(\"\\nEducation Ratio (Graduate to Non-Graduate):\", education_ratio)\n",
        "\n",
        "# Income-to-Loan Ratio\n",
        "data['Income_to_Loan_Ratio'] = (data['ApplicantIncome'] + data['CoapplicantIncome']) / data['LoanAmount']\n",
        "print(\"\\nIncome to Loan Ratio:\")\n",
        "print(data['Income_to_Loan_Ratio'].describe())\n",
        "\n",
        "# Visualization: Gender Distribution\n",
        "sns.countplot(x='Gender', data=data)\n",
        "plt.title('Gender Distribution')\n",
        "plt.show()\n",
        "\n",
        "# Visualization: Education and LoanAmount\n",
        "sns.boxplot(x='Education', y='LoanAmount', data=data)\n",
        "plt.title('Loan Amount by Education Level')\n",
        "plt.show()\n"
      ]
    },
    {
      "cell_type": "code",
      "execution_count": null,
      "metadata": {
        "id": "098OpXwfd6zk"
      },
      "outputs": [],
      "source": [
        "import pandas as pd\n",
        "import matplotlib.pyplot as plt\n",
        "import seaborn as sns\n",
        "\n",
        "# Load dataset\n",
        "data = pd.read_csv('/path/to/loan_data.csv')\n",
        "\n",
        "# Clean and preprocess the data\n",
        "# Convert categorical variables to numerical values (if not done already)\n",
        "data['Gender'] = data['Gender'].map({'Male': 1, 'Female': 0})\n",
        "data['Married'] = data['Married'].map({'Married': 1, 'Single': 0, 'Divorced': 0})\n",
        "data['Education'] = data['Education'].map({'Graduate': 1, 'Not Graduate': 0})\n",
        "data['Self_Employed'] = data['Self_Employed'].map({'Yes': 1, 'No': 0})\n",
        "data['Credit_History'] = data['Credit_History'].fillna(0)  # Fill missing values with 0 (No Credit History)\n",
        "\n",
        "# Calculate meaningful ratios for insights\n",
        "# Income-to-Loan Ratio\n",
        "data['Income_Loan_Ratio'] = (data['ApplicantIncome'] + data['CoapplicantIncome']) / data['LoanAmount']\n",
        "\n",
        "# Applicant-to-Coapplicant Income Ratio\n",
        "data['Income_Ratio'] = data['ApplicantIncome'] / (data['CoapplicantIncome'] + 1)\n",
        "\n",
        "# Loan-to-Term Ratio\n",
        "data['Loan_Term_Ratio'] = data['LoanAmount'] / data['Loan_Amount_Term']\n",
        "\n",
        "# Dependents-to-Income Ratio\n",
        "data['Dependents_Ratio'] = data['Dependents'] / (data['ApplicantIncome'] + data['CoapplicantIncome'])\n",
        "\n",
        "# Credit-to-Non-Credit Ratio\n",
        "data['Credit_History_Ratio'] = data.groupby('Credit_History')['LoanAmount'].transform('count') / len(data)\n",
        "\n",
        "# Income by Property Area\n",
        "data['Income_by_Area'] = data.groupby('Property_Area')['ApplicantIncome'].transform('mean')\n"
      ]
    },
    {
      "cell_type": "code",
      "execution_count": null,
      "metadata": {
        "colab": {
          "base_uri": "https://localhost:8080/"
        },
        "id": "0MDC6MogRQR0",
        "outputId": "bb755e67-627b-4346-a5d9-d625290bb087"
      },
      "outputs": [
        {
          "name": "stdout",
          "output_type": "stream",
          "text": [
            "\n",
            "Credit to Non-Credit Ratio: Credit_History\n",
            "1.0    0.839237\n",
            "0.0    0.160763\n",
            "Name: proportion, dtype: float64\n",
            "\n",
            "Area-Based Income and Loan Ratios:\n",
            "               ApplicantIncome     LoanAmount\n",
            "Property_Area                                \n",
            "Rural              7317.045045  866513.513514\n",
            "Semiurban          7197.344828  852103.448276\n",
            "Urban              7361.278571  884335.714286\n",
            "\n",
            "Self-Employed to Salaried Ratio: Self_Employed\n",
            "No     0.899183\n",
            "Yes    0.100817\n",
            "Name: proportion, dtype: float64\n",
            "\n",
            "Data with Calculated Ratios:\n",
            "   Income_to_Loan_Ratio  Applicant_to_Coapplicant_Ratio  \\\n",
            "0              0.010002                        2.717391   \n",
            "1              0.010000                        3.827789   \n",
            "2              0.010001                        2.956881   \n",
            "3              0.010000                        3.941678   \n",
            "4              0.009987                     3845.000000   \n",
            "\n",
            "   Dependents_to_Income_Ratio  Loan_to_Term_Ratio  \n",
            "0                    0.000221         7550.000000  \n",
            "1                    0.000135         2055.555556  \n",
            "2                    0.000182         9175.000000  \n",
            "3                    0.000265         3141.666667  \n",
            "4                    0.000000         1069.444444  \n"
          ]
        }
      ],
      "source": [
        "# Income-to-Loan Ratio\n",
        "data['Income_to_Loan_Ratio'] = (data['ApplicantIncome'] + data['CoapplicantIncome']) / data['LoanAmount']\n",
        "\n",
        "# Applicant-to-Coapplicant Income Ratio\n",
        "data['Applicant_to_Coapplicant_Ratio'] = data['ApplicantIncome'] / (data['CoapplicantIncome'] + 1)\n",
        "\n",
        "# Dependents-to-Income Ratio\n",
        "data['Dependents_to_Income_Ratio'] = data['Dependents'].replace('3+', 3).astype(int) / (data['ApplicantIncome'] + data['CoapplicantIncome'])\n",
        "\n",
        "# Credit-to-Non-Credit Ratio\n",
        "credit_ratio = data['Credit_History'].value_counts(normalize=True)\n",
        "print(\"\\nCredit to Non-Credit Ratio:\", credit_ratio)\n",
        "\n",
        "# Area-Based Income and Loan Ratio\n",
        "area_income_loan = data.groupby('Property_Area').agg({'ApplicantIncome': 'mean', 'LoanAmount': 'mean'})\n",
        "print(\"\\nArea-Based Income and Loan Ratios:\")\n",
        "print(area_income_loan)\n",
        "\n",
        "# Loan-to-Term Ratio\n",
        "data['Loan_to_Term_Ratio'] = data['LoanAmount'] / data['Loan_Amount_Term']\n",
        "\n",
        "# Self-Employed to Salaried Ratio\n",
        "self_employed_ratio = data['Self_Employed'].value_counts(normalize=True)\n",
        "print(\"\\nSelf-Employed to Salaried Ratio:\", self_employed_ratio)\n",
        "\n",
        "# Summary\n",
        "print(\"\\nData with Calculated Ratios:\")\n",
        "print(data[['Income_to_Loan_Ratio', 'Applicant_to_Coapplicant_Ratio', 'Dependents_to_Income_Ratio', 'Loan_to_Term_Ratio']].head())\n"
      ]
    },
    {
      "cell_type": "code",
      "execution_count": null,
      "metadata": {
        "colab": {
          "base_uri": "https://localhost:8080/"
        },
        "id": "HPpxkn76cT1K",
        "outputId": "f31671e3-8b10-4239-bf7a-ed204c063254"
      },
      "outputs": [
        {
          "name": "stdout",
          "output_type": "stream",
          "text": [
            "\n",
            "Credit to Non-Credit Ratio:\n",
            " Credit_History\n",
            "With Credit History       0.839237\n",
            "Without Credit History    0.160763\n",
            "Name: proportion, dtype: float64\n",
            "\n",
            "Average Income and Loan Amount by Area:\n",
            "                Avg_ApplicantIncome  Avg_LoanAmount\n",
            "Property_Area                                     \n",
            "Rural                      7317.05       866513.51\n",
            "Semiurban                  7197.34       852103.45\n",
            "Urban                      7361.28       884335.71\n",
            "\n",
            "Self-Employed to Salaried Ratio:\n",
            " Self_Employed\n",
            "Salaried         0.9\n",
            "Self-Employed    0.1\n",
            "Name: proportion, dtype: float64\n",
            "\n",
            "Summary of Calculated Ratios:\n",
            "    Income_to_Loan_Ratio  Applicant_to_Coapplicant_Ratio  \\\n",
            "0                  0.01                            2.72   \n",
            "1                  0.01                            3.83   \n",
            "2                  0.01                            2.96   \n",
            "3                  0.01                            3.94   \n",
            "4                  0.01                         3845.00   \n",
            "\n",
            "   Dependents_to_Income_Ratio  Loan_to_Term_Ratio  \n",
            "0                      0.0002             7550.00  \n",
            "1                      0.0001             2055.56  \n",
            "2                      0.0002             9175.00  \n",
            "3                      0.0003             3141.67  \n",
            "4                      0.0000             1069.44  \n"
          ]
        }
      ],
      "source": [
        "# Simplified Ratio Calculations\n",
        "\n",
        "# Income-to-Loan Ratio (applicant + coapplicant income divided by loan amount)\n",
        "data['Income_to_Loan_Ratio'] = ((data['ApplicantIncome'] + data['CoapplicantIncome']) / data['LoanAmount']).round(2)\n",
        "\n",
        "# Applicant-to-Coapplicant Income Ratio (applicant income relative to coapplicant income)\n",
        "data['Applicant_to_Coapplicant_Ratio'] = (data['ApplicantIncome'] / (data['CoapplicantIncome'] + 1)).round(2)\n",
        "\n",
        "# Dependents-to-Income Ratio (dependents as a proportion of total income)\n",
        "data['Dependents'] = data['Dependents'].replace('3+', 3).astype(int)\n",
        "data['Dependents_to_Income_Ratio'] = (data['Dependents'] / (data['ApplicantIncome'] + data['CoapplicantIncome'])).round(4)\n",
        "\n",
        "# Credit-to-Non-Credit Ratio\n",
        "credit_ratio = data['Credit_History'].value_counts(normalize=True)\n",
        "credit_ratio = credit_ratio.rename(index={1: 'With Credit History', 0: 'Without Credit History'})\n",
        "print(\"\\nCredit to Non-Credit Ratio:\\n\", credit_ratio)\n",
        "\n",
        "# Area-Based Average Income and Loan Amount\n",
        "area_income_loan = data.groupby('Property_Area').agg(\n",
        "    Avg_ApplicantIncome=('ApplicantIncome', 'mean'),\n",
        "    Avg_LoanAmount=('LoanAmount', 'mean')\n",
        ").round(2)\n",
        "print(\"\\nAverage Income and Loan Amount by Area:\\n\", area_income_loan)\n",
        "\n",
        "# Loan-to-Term Ratio (loan amount per month over loan term)\n",
        "data['Loan_to_Term_Ratio'] = (data['LoanAmount'] / data['Loan_Amount_Term']).round(2)\n",
        "\n",
        "# Self-Employed to Salaried Ratio\n",
        "self_employed_ratio = data['Self_Employed'].value_counts(normalize=True).round(2)\n",
        "self_employed_ratio = self_employed_ratio.rename(index={'Yes': 'Self-Employed', 'No': 'Salaried'})\n",
        "print(\"\\nSelf-Employed to Salaried Ratio:\\n\", self_employed_ratio)\n",
        "\n",
        "# Summary of Calculated Ratios\n",
        "summary_ratios = data[['Income_to_Loan_Ratio', 'Applicant_to_Coapplicant_Ratio', 'Dependents_to_Income_Ratio', 'Loan_to_Term_Ratio']].head()\n",
        "print(\"\\nSummary of Calculated Ratios:\\n\", summary_ratios)\n"
      ]
    },
    {
      "cell_type": "code",
      "execution_count": null,
      "metadata": {
        "id": "LqBZ-8VtcZrl"
      },
      "outputs": [],
      "source": [
        "def grade_customers(data):\n",
        "    conditions = [\n",
        "        (data['ApplicantIncome'] > 5000) & (data['Credit_History'] == 1),\n",
        "        (data['ApplicantIncome'] > 3000) & (data['Credit_History'] == 1),\n",
        "        (data['ApplicantIncome'] > 2000),\n",
        "        (data['ApplicantIncome'] <= 2000)\n",
        "    ]\n",
        "    grades = ['A', 'B', 'C', 'D']\n",
        "    data['Grade'] = np.select(conditions, grades)\n",
        "    return data\n",
        "\n",
        "# Apply grading\n",
        "data = grade_customers(data)\n"
      ]
    },
    {
      "cell_type": "code",
      "execution_count": null,
      "metadata": {
        "colab": {
          "base_uri": "https://localhost:8080/"
        },
        "id": "ddx7PXOOdeKk",
        "outputId": "8b6022d1-7d81-46a8-d8c1-178ce403fad3"
      },
      "outputs": [
        {
          "name": "stdout",
          "output_type": "stream",
          "text": [
            "\n",
            "Data with Assigned Banks:\n",
            "    Loan_ID Grade Bank_Assigned\n",
            "0  LP001015     A      ABC Bank\n",
            "1  LP001022     A      ABC Bank\n",
            "2  LP001031     A      ABC Bank\n",
            "3  LP001035     A      ABC Bank\n",
            "4  LP001051     B      XYZ Bank\n"
          ]
        }
      ],
      "source": [
        "# Function to assign banks based on grade\n",
        "def assign_bank(grade):\n",
        "    if grade == 'A':\n",
        "        return 'ABC Bank'\n",
        "    elif grade == 'B':\n",
        "        return 'XYZ Bank'\n",
        "    elif grade == 'C':\n",
        "        return 'LMN Bank'\n",
        "    else:\n",
        "        return 'No Bank Available'\n",
        "\n",
        "# Apply bank assignment\n",
        "data['Bank_Assigned'] = data['Grade'].apply(assign_bank)\n",
        "print(\"\\nData with Assigned Banks:\")\n",
        "print(data[['Loan_ID', 'Grade', 'Bank_Assigned']].head())\n"
      ]
    },
    {
      "cell_type": "code",
      "execution_count": null,
      "metadata": {
        "colab": {
          "background_save": true,
          "base_uri": "https://localhost:8080/"
        },
        "id": "8PWr7_G17E6P",
        "outputId": "2a4488ed-11d8-4c89-d690-474d57e3056e"
      },
      "outputs": [
        {
          "name": "stdout",
          "output_type": "stream",
          "text": [
            "\n",
            "==============================\n",
            "  Welcome to the Loan Profile and Grading System  \n",
            "==============================\n",
            "\n",
            "Available Loan IDs: LP001015, LP001022, LP001031, LP001035, LP001051, LP001054, LP001055, LP001056, LP001059, LP001067, LP001078, LP001082, LP001083, LP001094, LP001096, LP001099, LP001105, LP001107, LP001108, LP001115, LP001121, LP001124, LP001128, LP001135, LP001149, LP001153, LP001163, LP001169, LP001174, LP001176, LP001177, LP001183, LP001185, LP001187, LP001190, LP001203, LP001208, LP001210, LP001211, LP001219, LP001220, LP001221, LP001226, LP001230, LP001231, LP001232, LP001237, LP001242, LP001268, LP001270, LP001284, LP001287, LP001291, LP001298, LP001312, LP001313, LP001317, LP001321, LP001323, LP001324, LP001332, LP001335, LP001338, LP001347, LP001348, LP001351, LP001352, LP001358, LP001359, LP001361, LP001366, LP001368, LP001375, LP001380, LP001386, LP001400, LP001407, LP001413, LP001415, LP001419, LP001420, LP001428, LP001445, LP001446, LP001450, LP001452, LP001455, LP001466, LP001471, LP001472, LP001475, LP001483, LP001486, LP001490, LP001496, LP001499, LP001500, LP001501, LP001517, LP001527, LP001534, LP001542, LP001547, LP001548, LP001558, LP001561, LP001563, LP001567, LP001568, LP001573, LP001584, LP001587, LP001589, LP001591, LP001599, LP001601, LP001607, LP001611, LP001613, LP001622, LP001627, LP001650, LP001651, LP001652, LP001655, LP001660, LP001662, LP001663, LP001667, LP001695, LP001703, LP001718, LP001728, LP001735, LP001737, LP001739, LP001742, LP001757, LP001769, LP001771, LP001785, LP001787, LP001789, LP001791, LP001794, LP001797, LP001815, LP001817, LP001818, LP001822, LP001827, LP001831, LP001842, LP001853, LP001855, LP001857, LP001862, LP001867, LP001878, LP001881, LP001886, LP001906, LP001909, LP001911, LP001921, LP001923, LP001933, LP001943, LP001950, LP001959, LP001961, LP001973, LP001975, LP001979, LP001995, LP001999, LP002007, LP002009, LP002016, LP002017, LP002018, LP002027, LP002028, LP002042, LP002045, LP002046, LP002047, LP002056, LP002057, LP002059, LP002062, LP002064, LP002069, LP002070, LP002077, LP002083, LP002090, LP002096, LP002099, LP002102, LP002105, LP002107, LP002111, LP002117, LP002118, LP002123, LP002125, LP002148, LP002152, LP002165, LP002167, LP002168, LP002172, LP002176, LP002183, LP002184, LP002186, LP002192, LP002195, LP002208, LP002212, LP002240, LP002245, LP002253, LP002256, LP002257, LP002264, LP002270, LP002279, LP002286, LP002294, LP002298, LP002306, LP002310, LP002311, LP002316, LP002321, LP002325, LP002326, LP002329, LP002333, LP002339, LP002344, LP002346, LP002354, LP002355, LP002358, LP002360, LP002375, LP002376, LP002383, LP002385, LP002389, LP002394, LP002397, LP002399, LP002400, LP002402, LP002412, LP002415, LP002417, LP002420, LP002425, LP002433, LP002440, LP002441, LP002442, LP002445, LP002450, LP002471, LP002476, LP002482, LP002485, LP002495, LP002496, LP002523, LP002542, LP002550, LP002551, LP002553, LP002554, LP002561, LP002566, LP002568, LP002570, LP002572, LP002581, LP002584, LP002592, LP002593, LP002599, LP002604, LP002605, LP002609, LP002610, LP002612, LP002614, LP002630, LP002635, LP002639, LP002644, LP002651, LP002654, LP002657, LP002711, LP002712, LP002721, LP002735, LP002744, LP002745, LP002746, LP002747, LP002754, LP002759, LP002760, LP002766, LP002769, LP002774, LP002775, LP002781, LP002782, LP002786, LP002790, LP002791, LP002793, LP002802, LP002803, LP002805, LP002806, LP002816, LP002823, LP002825, LP002826, LP002843, LP002849, LP002850, LP002853, LP002856, LP002857, LP002858, LP002860, LP002867, LP002869, LP002870, LP002876, LP002878, LP002879, LP002885, LP002890, LP002891, LP002899, LP002901, LP002907, LP002920, LP002921, LP002932, LP002935, LP002952, LP002954, LP002962, LP002965, LP002969, LP002971, LP002975, LP002980, LP002986, LP002989\n",
            "\n",
            "--- Main Menu ---\n",
            "1. View Profile and Grade by Loan ID\n",
            "2. Exit\n",
            "-----------------\n",
            "\n",
            "Fetching profile for Loan ID: LP001035\n",
            "\n",
            "--- Customer Loan Profile ---\n",
            "Loan ID           : LP001035\n",
            "Gender            : Male\n",
            "Married           : Yes\n",
            "Dependents        : 2\n",
            "Education         : Graduate\n",
            "Self Employed     : No\n",
            "Applicant Income  : 6015\n",
            "Coapplicant Income: 1525\n",
            "Loan Amount       : 754000\n",
            "Loan Term         : 240\n",
            "Credit History    : nan\n",
            "Property Area     : Urban\n",
            "Assigned Grade    : D\n",
            "Eligible Bank     : Bank PQR\n",
            "\n",
            "--- End of Profile ---\n",
            "\n",
            "\n",
            "--- Main Menu ---\n",
            "1. View Profile and Grade by Loan ID\n",
            "2. Exit\n",
            "-----------------\n",
            "\n",
            "Invalid choice. Please select 1 or 2.\n",
            "\n",
            "\n",
            "--- Main Menu ---\n",
            "1. View Profile and Grade by Loan ID\n",
            "2. Exit\n",
            "-----------------\n"
          ]
        }
      ],
      "source": [
        "import pandas as pd\n",
        "\n",
        "# Load the dataset\n",
        "data = pd.read_csv('/content/DATASETT.csv')\n",
        "\n",
        "# Define function to assign grade and bank\n",
        "def assign_grade_and_bank(row):\n",
        "    if row['Credit_History'] == 1 and row['ApplicantIncome'] > 5000 and row['LoanAmount'] < 200:\n",
        "        return 'A', 'Bank ABC'\n",
        "    elif row['Credit_History'] == 1 and row['ApplicantIncome'] > 3000:\n",
        "        return 'B', 'Bank XYZ'\n",
        "    elif row['Credit_History'] == 0 and row['ApplicantIncome'] > 3000:\n",
        "        return 'C', 'Bank LMN'\n",
        "    else:\n",
        "        return 'D', 'Bank PQR'\n",
        "\n",
        "# Apply grading and bank assignment\n",
        "data[['Grade', 'Bank']] = data.apply(assign_grade_and_bank, axis=1, result_type=\"expand\")\n",
        "\n",
        "# Function to display the complete profile in a formatted way\n",
        "def display_profile(profile):\n",
        "    profile_data = profile.iloc[0]  # Get the row as a Series\n",
        "    print(\"\\n--- Customer Loan Profile ---\")\n",
        "    print(f\"Loan ID           : {profile_data['Loan_ID']}\")\n",
        "    print(f\"Gender            : {profile_data['Gender']}\")\n",
        "    print(f\"Married           : {profile_data['Married']}\")\n",
        "    print(f\"Dependents        : {profile_data['Dependents']}\")\n",
        "    print(f\"Education         : {profile_data['Education']}\")\n",
        "    print(f\"Self Employed     : {profile_data['Self_Employed']}\")\n",
        "    print(f\"Applicant Income  : {profile_data['ApplicantIncome']}\")\n",
        "    print(f\"Coapplicant Income: {profile_data['CoapplicantIncome']}\")\n",
        "    print(f\"Loan Amount       : {profile_data['LoanAmount']}\")\n",
        "    print(f\"Loan Term         : {profile_data['Loan_Amount_Term']}\")\n",
        "    print(f\"Credit History    : {profile_data['Credit_History']}\")\n",
        "    print(f\"Property Area     : {profile_data['Property_Area']}\")\n",
        "    print(f\"Assigned Grade    : {profile_data['Grade']}\")\n",
        "    print(f\"Eligible Bank     : {profile_data['Bank']}\")\n",
        "    print(\"\\n--- End of Profile ---\\n\")\n",
        "\n",
        "# Function to fetch profile by Loan ID\n",
        "def fetch_profile(loan_id):\n",
        "    profile = data[data['Loan_ID'] == loan_id]\n",
        "    if not profile.empty:\n",
        "        display_profile(profile)\n",
        "    else:\n",
        "        print(\"\\nLoan ID not found. Please check and try again.\\n\")\n",
        "\n",
        "# Main menu function\n",
        "def main_menu():\n",
        "    print(\"\\n==============================\")\n",
        "    print(\"  Welcome to the Loan Profile and Grading System  \")\n",
        "    print(\"==============================\")\n",
        "\n",
        "    print(\"\\nAvailable Loan IDs:\", \", \".join(data['Loan_ID'].unique()))\n",
        "\n",
        "    while True:\n",
        "        print(\"\\n--- Main Menu ---\")\n",
        "        print(\"1. View Profile and Grade by Loan ID\")\n",
        "        print(\"2. Exit\")\n",
        "        print(\"-----------------\")\n",
        "\n",
        "        choice = input(\"Enter your choice (1 or 2): \").strip()\n",
        "\n",
        "        if choice == '1':\n",
        "            loan_id = input(\"\\nEnter Loan ID: \").strip()\n",
        "            print(\"\\nFetching profile for Loan ID:\", loan_id)\n",
        "            fetch_profile(loan_id)\n",
        "        elif choice == '2':\n",
        "            print(\"\\nThank you for using the Loan Profile System. Goodbye!\")\n",
        "            print(\"==============================\\n\")\n",
        "            break\n",
        "        else:\n",
        "            print(\"\\nInvalid choice. Please select 1 or 2.\\n\")\n",
        "\n",
        "# Run the main menu\n",
        "main_menu()\n"
      ]
    },
    {
      "cell_type": "code",
      "execution_count": null,
      "metadata": {
        "id": "sLqX1GcvXNDx"
      },
      "outputs": [],
      "source": []
    }
  ],
  "metadata": {
    "colab": {
      "provenance": [],
      "include_colab_link": true
    },
    "kernelspec": {
      "display_name": "Python 3",
      "name": "python3"
    },
    "language_info": {
      "name": "python"
    }
  },
  "nbformat": 4,
  "nbformat_minor": 0
}